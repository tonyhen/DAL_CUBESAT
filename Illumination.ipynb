{
 "cells": [
  {
   "cell_type": "code",
   "execution_count": 1,
   "outputs": [
    {
     "name": "stdout",
     "output_type": "stream",
     "text": [
      "Requirement already satisfied: pandas in c:\\users\\tonyh\\matlab\\projects\\acds\\venv\\lib\\site-packages (from -r requirements.txt (line 1)) (1.4.3)\n",
      "Requirement already satisfied: numpy in c:\\users\\tonyh\\matlab\\projects\\acds\\venv\\lib\\site-packages (from -r requirements.txt (line 2)) (1.22.4)\n",
      "Requirement already satisfied: matplotlib in c:\\users\\tonyh\\matlab\\projects\\acds\\venv\\lib\\site-packages (from -r requirements.txt (line 3)) (3.5.3)\n",
      "Requirement already satisfied: pytz>=2020.1 in c:\\users\\tonyh\\matlab\\projects\\acds\\venv\\lib\\site-packages (from pandas->-r requirements.txt (line 1)) (2022.2.1)\n",
      "Requirement already satisfied: python-dateutil>=2.8.1 in c:\\users\\tonyh\\matlab\\projects\\acds\\venv\\lib\\site-packages (from pandas->-r requirements.txt (line 1)) (2.8.2)\n",
      "Requirement already satisfied: packaging>=20.0 in c:\\users\\tonyh\\matlab\\projects\\acds\\venv\\lib\\site-packages (from matplotlib->-r requirements.txt (line 3)) (21.3)\n",
      "Requirement already satisfied: pyparsing>=2.2.1 in c:\\users\\tonyh\\matlab\\projects\\acds\\venv\\lib\\site-packages (from matplotlib->-r requirements.txt (line 3)) (3.0.9)\n",
      "Requirement already satisfied: kiwisolver>=1.0.1 in c:\\users\\tonyh\\matlab\\projects\\acds\\venv\\lib\\site-packages (from matplotlib->-r requirements.txt (line 3)) (1.4.4)\n",
      "Requirement already satisfied: pillow>=6.2.0 in c:\\users\\tonyh\\matlab\\projects\\acds\\venv\\lib\\site-packages (from matplotlib->-r requirements.txt (line 3)) (9.2.0)\n",
      "Requirement already satisfied: fonttools>=4.22.0 in c:\\users\\tonyh\\matlab\\projects\\acds\\venv\\lib\\site-packages (from matplotlib->-r requirements.txt (line 3)) (4.36.0)\n",
      "Requirement already satisfied: cycler>=0.10 in c:\\users\\tonyh\\matlab\\projects\\acds\\venv\\lib\\site-packages (from matplotlib->-r requirements.txt (line 3)) (0.11.0)\n",
      "Requirement already satisfied: six>=1.5 in c:\\users\\tonyh\\matlab\\projects\\acds\\venv\\lib\\site-packages (from python-dateutil>=2.8.1->pandas->-r requirements.txt (line 1)) (1.16.0)\n",
      "Note: you may need to restart the kernel to use updated packages.\n"
     ]
    }
   ],
   "source": [
    "pip install -r requirements.txt"
   ],
   "metadata": {
    "collapsed": false,
    "pycharm": {
     "name": "#%%\n"
    }
   }
  },
  {
   "cell_type": "code",
   "execution_count": 2,
   "metadata": {
    "collapsed": true,
    "pycharm": {
     "name": "#%%\n"
    }
   },
   "outputs": [],
   "source": [
    "import pandas as pd\n",
    "import numpy as np\n"
   ]
  },
  {
   "cell_type": "code",
   "execution_count": 3,
   "outputs": [
    {
     "name": "stderr",
     "output_type": "stream",
     "text": [
      "C:\\Users\\tonyh\\AppData\\Local\\Temp\\ipykernel_17748\\347249551.py:1: ParserWarning: Falling back to the 'python' engine because the 'c' engine does not support regex separators (separators > 1 char and different from '\\s+' are interpreted as regex); you can avoid this warning by specifying engine='python'.\n",
      "  df = pd.read_csv('OutputsCharging.txt', sep=r'\\t+')\n",
      "C:\\Users\\tonyh\\AppData\\Local\\Temp\\ipykernel_17748\\347249551.py:2: ParserWarning: Falling back to the 'python' engine because the 'c' engine does not support regex separators (separators > 1 char and different from '\\s+' are interpreted as regex); you can avoid this warning by specifying engine='python'.\n",
      "  df2 = pd.read_csv('SolarPower_PanelPower.Fixed.txt', sep=r'\\s\\s+')\n",
      "C:\\Users\\tonyh\\AppData\\Local\\Temp\\ipykernel_17748\\347249551.py:3: ParserWarning: Falling back to the 'python' engine because the 'c' engine does not support regex separators (separators > 1 char and different from '\\s+' are interpreted as regex); you can avoid this warning by specifying engine='python'.\n",
      "  df3 = pd.read_csv('SolarPower_ShadowTimes_Fixed.txt', sep=r'\\s\\s+')\n"
     ]
    }
   ],
   "source": [
    "df = pd.read_csv('OutputsCharging.txt', sep=r'\\t+')\n",
    "df2 = pd.read_csv('SolarPower_PanelPower.Fixed.txt', sep=r'\\s\\s+')\n",
    "df3 = pd.read_csv('SolarPower_ShadowTimes_Fixed.txt', sep=r'\\s\\s+')"
   ],
   "metadata": {
    "collapsed": false,
    "pycharm": {
     "name": "#%%\n"
    }
   }
  },
  {
   "cell_type": "code",
   "execution_count": 4,
   "outputs": [],
   "source": [
    "df2['SolarSat.EpochText'] = pd.to_datetime(df2['SolarSat.EpochText'])\n",
    "df['SolarSat.EpochText'] = pd.to_datetime(df2['SolarSat.EpochText'])\n",
    "df3['Entry Epoch'] = pd.to_datetime(df3['Entry Epoch'])\n",
    "df3['Exit Epoch'] = pd.to_datetime((df3['Exit Epoch']))"
   ],
   "metadata": {
    "collapsed": false,
    "pycharm": {
     "name": "#%%\n"
    }
   }
  },
  {
   "cell_type": "code",
   "execution_count": 5,
   "outputs": [],
   "source": [
    "df.rename(columns={'PanelPower': 'PanelPower(Charging)'}, inplace=True)\n",
    "df2.rename(columns={'PanelPower': 'PanelPower(Nadir)'}, inplace=True)"
   ],
   "metadata": {
    "collapsed": false,
    "pycharm": {
     "name": "#%%\n"
    }
   }
  },
  {
   "cell_type": "code",
   "execution_count": 6,
   "outputs": [],
   "source": [
    "merge = pd.merge(df,df2, how='inner', on='SolarSat.EpochText')"
   ],
   "metadata": {
    "collapsed": false,
    "pycharm": {
     "name": "#%%\n"
    }
   }
  },
  {
   "cell_type": "code",
   "execution_count": 7,
   "outputs": [
    {
     "data": {
      "text/plain": "               SolarSat.EpochText  SunPanelAngle_x  SolarSat.Range(Sun) (km)  \\\n0      2022-08-23 08:57:57.785184           78.849              1.512897e+08   \n1      2022-08-23 08:59:27.785184           78.849              1.512896e+08   \n2      2022-08-23 09:00:57.785184           78.961              1.512895e+08   \n3      2022-08-23 09:02:27.785184           79.166              1.512895e+08   \n4      2022-08-23 09:03:57.785184           79.446              1.512894e+08   \n...                           ...              ...                       ...   \n172795 2023-02-19 08:50:27.785184           82.408              1.505680e+08   \n172796 2023-02-19 08:51:57.785184           83.049              1.505679e+08   \n172797 2023-02-19 08:53:27.785184           83.690              1.505678e+08   \n172798 2023-02-19 08:54:57.785184           84.331              1.505677e+08   \n172799 2023-02-19 08:56:27.785184           84.972              1.505677e+08   \n\n        PanelPower(Charging)  SunPanelAngle_y  PanelPower(Nadir)  \n0                     28.881           78.849             28.881  \n1                     28.881           78.848             28.883  \n2                     28.596           87.326              6.968  \n3                     28.071           91.079              2.811  \n4                     27.353           97.884             20.483  \n...                      ...              ...                ...  \n172795                19.637           72.619             43.606  \n172796                17.988           77.554             31.459  \n172797                16.336           82.529             18.981  \n172798                14.682           87.526              6.301  \n172799                13.025           92.531              6.446  \n\n[172800 rows x 6 columns]",
      "text/html": "<div>\n<style scoped>\n    .dataframe tbody tr th:only-of-type {\n        vertical-align: middle;\n    }\n\n    .dataframe tbody tr th {\n        vertical-align: top;\n    }\n\n    .dataframe thead th {\n        text-align: right;\n    }\n</style>\n<table border=\"1\" class=\"dataframe\">\n  <thead>\n    <tr style=\"text-align: right;\">\n      <th></th>\n      <th>SolarSat.EpochText</th>\n      <th>SunPanelAngle_x</th>\n      <th>SolarSat.Range(Sun) (km)</th>\n      <th>PanelPower(Charging)</th>\n      <th>SunPanelAngle_y</th>\n      <th>PanelPower(Nadir)</th>\n    </tr>\n  </thead>\n  <tbody>\n    <tr>\n      <th>0</th>\n      <td>2022-08-23 08:57:57.785184</td>\n      <td>78.849</td>\n      <td>1.512897e+08</td>\n      <td>28.881</td>\n      <td>78.849</td>\n      <td>28.881</td>\n    </tr>\n    <tr>\n      <th>1</th>\n      <td>2022-08-23 08:59:27.785184</td>\n      <td>78.849</td>\n      <td>1.512896e+08</td>\n      <td>28.881</td>\n      <td>78.848</td>\n      <td>28.883</td>\n    </tr>\n    <tr>\n      <th>2</th>\n      <td>2022-08-23 09:00:57.785184</td>\n      <td>78.961</td>\n      <td>1.512895e+08</td>\n      <td>28.596</td>\n      <td>87.326</td>\n      <td>6.968</td>\n    </tr>\n    <tr>\n      <th>3</th>\n      <td>2022-08-23 09:02:27.785184</td>\n      <td>79.166</td>\n      <td>1.512895e+08</td>\n      <td>28.071</td>\n      <td>91.079</td>\n      <td>2.811</td>\n    </tr>\n    <tr>\n      <th>4</th>\n      <td>2022-08-23 09:03:57.785184</td>\n      <td>79.446</td>\n      <td>1.512894e+08</td>\n      <td>27.353</td>\n      <td>97.884</td>\n      <td>20.483</td>\n    </tr>\n    <tr>\n      <th>...</th>\n      <td>...</td>\n      <td>...</td>\n      <td>...</td>\n      <td>...</td>\n      <td>...</td>\n      <td>...</td>\n    </tr>\n    <tr>\n      <th>172795</th>\n      <td>2023-02-19 08:50:27.785184</td>\n      <td>82.408</td>\n      <td>1.505680e+08</td>\n      <td>19.637</td>\n      <td>72.619</td>\n      <td>43.606</td>\n    </tr>\n    <tr>\n      <th>172796</th>\n      <td>2023-02-19 08:51:57.785184</td>\n      <td>83.049</td>\n      <td>1.505679e+08</td>\n      <td>17.988</td>\n      <td>77.554</td>\n      <td>31.459</td>\n    </tr>\n    <tr>\n      <th>172797</th>\n      <td>2023-02-19 08:53:27.785184</td>\n      <td>83.690</td>\n      <td>1.505678e+08</td>\n      <td>16.336</td>\n      <td>82.529</td>\n      <td>18.981</td>\n    </tr>\n    <tr>\n      <th>172798</th>\n      <td>2023-02-19 08:54:57.785184</td>\n      <td>84.331</td>\n      <td>1.505677e+08</td>\n      <td>14.682</td>\n      <td>87.526</td>\n      <td>6.301</td>\n    </tr>\n    <tr>\n      <th>172799</th>\n      <td>2023-02-19 08:56:27.785184</td>\n      <td>84.972</td>\n      <td>1.505677e+08</td>\n      <td>13.025</td>\n      <td>92.531</td>\n      <td>6.446</td>\n    </tr>\n  </tbody>\n</table>\n<p>172800 rows × 6 columns</p>\n</div>"
     },
     "execution_count": 7,
     "metadata": {},
     "output_type": "execute_result"
    }
   ],
   "source": [
    "merge = merge.drop(columns=['SolarSat.Range(Sun)', 'Area'])\n",
    "merge"
   ],
   "metadata": {
    "collapsed": false,
    "pycharm": {
     "name": "#%%\n"
    }
   }
  },
  {
   "cell_type": "code",
   "execution_count": 8,
   "outputs": [],
   "source": [
    "merge.rename(columns={'SolarSat.EpochText': 'Epoch', 'SunPanelAngle_x': 'PanelAngle(Charging)', 'SunPanelAngle_y': 'PanelAngle(Nadir)'}, inplace=True)"
   ],
   "metadata": {
    "collapsed": false,
    "pycharm": {
     "name": "#%%\n"
    }
   }
  },
  {
   "cell_type": "code",
   "execution_count": 9,
   "outputs": [
    {
     "data": {
      "text/plain": "<AxesSubplot:ylabel='Density'>"
     },
     "execution_count": 9,
     "metadata": {},
     "output_type": "execute_result"
    },
    {
     "data": {
      "text/plain": "<Figure size 640x480 with 1 Axes>",
      "image/png": "[encoded data removed]"
     },
     "metadata": {},
     "output_type": "display_data"
    }
   ],
   "source": [
    "merge['PanelPower(Nadir)'].plot.kde(color='red')\n",
    "merge['PanelPower(Charging)'].plot.kde(color='blue')"
   ],
   "metadata": {
    "collapsed": false,
    "pycharm": {
     "name": "#%%\n"
    }
   }
  },
  {
   "cell_type": "code",
   "execution_count": 10,
   "outputs": [
    {
     "data": {
      "text/plain": "            PanelAngle(Charging)  SolarSat.Range(Sun) (km)  \\\nEpoch                                                        \n2022-08-23             12.263895              1.512874e+08   \n2022-08-24             11.776153              1.512841e+08   \n2022-08-25             21.305508              1.512805e+08   \n2022-08-26              9.085645              1.512785e+08   \n2022-08-27              1.394682              1.512748e+08   \n...                          ...                       ...   \n2023-02-15              2.787746              1.505852e+08   \n2023-02-16              1.389010              1.505803e+08   \n2023-02-17              2.786261              1.505748e+08   \n2023-02-18              3.030631              1.505714e+08   \n2023-02-19              6.343729              1.505711e+08   \n\n            PanelPower(Charging)  PanelAngle(Nadir)  PanelPower(Nadir)  \nEpoch                                                                   \n2022-08-23             80.718784         104.826105          50.330065  \n2022-08-24             86.675243         104.597220          48.843927  \n2022-08-25             88.484203         105.997630          50.718779  \n2022-08-26             76.985593         105.421706          49.743721  \n2022-08-27             82.193249         106.388387          51.061928  \n...                          ...                ...                ...  \n2023-02-15             79.715508          95.765922          34.694122  \n2023-02-16             83.838367          96.517159          35.983534  \n2023-02-17            103.712122          98.937481          39.737728  \n2023-02-18             86.036251          99.217409          40.399366  \n2023-02-19             49.564095         100.016383          41.561846  \n\n[181 rows x 5 columns]",
      "text/html": "<div>\n<style scoped>\n    .dataframe tbody tr th:only-of-type {\n        vertical-align: middle;\n    }\n\n    .dataframe tbody tr th {\n        vertical-align: top;\n    }\n\n    .dataframe thead th {\n        text-align: right;\n    }\n</style>\n<table border=\"1\" class=\"dataframe\">\n  <thead>\n    <tr style=\"text-align: right;\">\n      <th></th>\n      <th>PanelAngle(Charging)</th>\n      <th>SolarSat.Range(Sun) (km)</th>\n      <th>PanelPower(Charging)</th>\n      <th>PanelAngle(Nadir)</th>\n      <th>PanelPower(Nadir)</th>\n    </tr>\n    <tr>\n      <th>Epoch</th>\n      <th></th>\n      <th></th>\n      <th></th>\n      <th></th>\n      <th></th>\n    </tr>\n  </thead>\n  <tbody>\n    <tr>\n      <th>2022-08-23</th>\n      <td>12.263895</td>\n      <td>1.512874e+08</td>\n      <td>80.718784</td>\n      <td>104.826105</td>\n      <td>50.330065</td>\n    </tr>\n    <tr>\n      <th>2022-08-24</th>\n      <td>11.776153</td>\n      <td>1.512841e+08</td>\n      <td>86.675243</td>\n      <td>104.597220</td>\n      <td>48.843927</td>\n    </tr>\n    <tr>\n      <th>2022-08-25</th>\n      <td>21.305508</td>\n      <td>1.512805e+08</td>\n      <td>88.484203</td>\n      <td>105.997630</td>\n      <td>50.718779</td>\n    </tr>\n    <tr>\n      <th>2022-08-26</th>\n      <td>9.085645</td>\n      <td>1.512785e+08</td>\n      <td>76.985593</td>\n      <td>105.421706</td>\n      <td>49.743721</td>\n    </tr>\n    <tr>\n      <th>2022-08-27</th>\n      <td>1.394682</td>\n      <td>1.512748e+08</td>\n      <td>82.193249</td>\n      <td>106.388387</td>\n      <td>51.061928</td>\n    </tr>\n    <tr>\n      <th>...</th>\n      <td>...</td>\n      <td>...</td>\n      <td>...</td>\n      <td>...</td>\n      <td>...</td>\n    </tr>\n    <tr>\n      <th>2023-02-15</th>\n      <td>2.787746</td>\n      <td>1.505852e+08</td>\n      <td>79.715508</td>\n      <td>95.765922</td>\n      <td>34.694122</td>\n    </tr>\n    <tr>\n      <th>2023-02-16</th>\n      <td>1.389010</td>\n      <td>1.505803e+08</td>\n      <td>83.838367</td>\n      <td>96.517159</td>\n      <td>35.983534</td>\n    </tr>\n    <tr>\n      <th>2023-02-17</th>\n      <td>2.786261</td>\n      <td>1.505748e+08</td>\n      <td>103.712122</td>\n      <td>98.937481</td>\n      <td>39.737728</td>\n    </tr>\n    <tr>\n      <th>2023-02-18</th>\n      <td>3.030631</td>\n      <td>1.505714e+08</td>\n      <td>86.036251</td>\n      <td>99.217409</td>\n      <td>40.399366</td>\n    </tr>\n    <tr>\n      <th>2023-02-19</th>\n      <td>6.343729</td>\n      <td>1.505711e+08</td>\n      <td>49.564095</td>\n      <td>100.016383</td>\n      <td>41.561846</td>\n    </tr>\n  </tbody>\n</table>\n<p>181 rows × 5 columns</p>\n</div>"
     },
     "execution_count": 10,
     "metadata": {},
     "output_type": "execute_result"
    }
   ],
   "source": [
    "daily = merge.set_index('Epoch').resample('1D').mean()\n",
    "daily"
   ],
   "metadata": {
    "collapsed": false,
    "pycharm": {
     "name": "#%%\n"
    }
   }
  },
  {
   "cell_type": "code",
   "execution_count": 11,
   "outputs": [
    {
     "data": {
      "text/plain": "32.4370860050134"
     },
     "execution_count": 11,
     "metadata": {},
     "output_type": "execute_result"
    }
   ],
   "source": [
    "df3['Duration(min)'].mean()"
   ],
   "metadata": {
    "collapsed": false,
    "pycharm": {
     "name": "#%%\n"
    }
   }
  }
 ],
 "metadata": {
  "kernelspec": {
   "display_name": "Python 3",
   "language": "python",
   "name": "python3"
  },
  "language_info": {
   "codemirror_mode": {
    "name": "ipython",
    "version": 2
   },
   "file_extension": ".py",
   "mimetype": "text/x-python",
   "name": "python",
   "nbconvert_exporter": "python",
   "pygments_lexer": "ipython2",
   "version": "2.7.6"
  }
 },
 "nbformat": 4,
 "nbformat_minor": 0
}